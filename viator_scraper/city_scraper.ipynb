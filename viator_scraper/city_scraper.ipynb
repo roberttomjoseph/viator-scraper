{
 "cells": [
  {
   "cell_type": "code",
   "execution_count": 7,
   "metadata": {},
   "outputs": [],
   "source": [
    "\"\"\"This module contains functions to scrape all the activities listed on a city page.\"\"\"\n",
    "import time\n",
    "import requests\n",
    "from bs4 import BeautifulSoup as bs\n",
    "import pandas as pd\n",
    "import openpyxl"
   ]
  },
  {
   "cell_type": "code",
   "execution_count": 9,
   "metadata": {},
   "outputs": [],
   "source": [
    "def get_city_url_list(city_url, max_pages=100):\n",
    "    \"\"\"The city url is the first page of activities, most city urls have multiple pages\n",
    "    of activities, so we need to check if the page exists and if it does, add it to\n",
    "    a dictionary of valid pages. The key is the page number and the value is the url.\n",
    "    The variable max_pages is the maximum number of pages to check, this is to prevent\n",
    "    the scraper from running for too long if the city has a lot of pages.\"\"\"\n",
    "\n",
    "    response = requests.get(city_url, timeout=5)\n",
    "    if response.status_code != 200:\n",
    "        print(f\"City url is not valid: {city_url}\")\n",
    "        return {}\n",
    "    print(f\"Checked validity for page 1 and it was 200\")\n",
    "\n",
    "    valid_pages = {1: response}\n",
    "    if max_pages > 1:\n",
    "        for page_number in range(2, max_pages+1):\n",
    "            start = time.time()\n",
    "            page_url = city_url + f\"/{page_number}\"\n",
    "            response = requests.get(page_url, timeout=5)\n",
    "            if response.status_code == 200:\n",
    "                valid_pages[page_number] = response\n",
    "            print(f\"Checked validity for page {page_number} and it was {response.status_code}. Returned in {time.time() - start} seconds\")\n",
    "    print(f\"Found {len(valid_pages)} valid pages\")\n",
    "    return valid_pages"
   ]
  },
  {
   "cell_type": "code",
   "execution_count": 10,
   "metadata": {},
   "outputs": [],
   "source": [
    "def get_activity_urls(soup):\n",
    "    \"\"\"This function takes bs4 soup object of a city activity page and returns a list of\n",
    "    activity urls contained in it.\"\"\"\n",
    "\n",
    "    activity_urls = []\n",
    "    activity_links = soup.find_all(\"a\", class_='text-dark highlight-able card-link')\n",
    "    for link in activity_links:\n",
    "        activity_urls.append(\"https://viator.com\" + link['href'])\n",
    "    return activity_urls"
   ]
  },
  {
   "cell_type": "code",
   "execution_count": 11,
   "metadata": {},
   "outputs": [],
   "source": [
    "def extract_data(link):\n",
    "    \"\"\"This function takes a link to an activity page and returns a list\n",
    "    of the data contained in it.\"\"\"\n",
    "\n",
    "    data = []\n",
    "    response = requests.get(link, timeout=5)\n",
    "    soup = bs(response.text, 'html.parser')\n",
    "\n",
    "\n",
    "    activity_name = soup.find(\"h1\", class_=\"title__1Wwg title2__C3R7\").text\n",
    "    activity_url = link\n",
    "    price_per_participant = soup.find_all(\"span\", class_=\"moneyView__2HPx defaultColor__1NL9\")[0].text\n",
    "    valid_number_of_participants = soup.find(\"input\", class_ = \"input__MNXR md__1Fp3\")['data-automation-value']\n",
    "    valid_date = soup.find(\"input\", class_ = \"input__2pmO md__2bZz\")[\"value\"]\n",
    "\n",
    "    overview_block = soup.find(\"div\", class_=\"overviewWrapper__bMs4\")\n",
    "\n",
    "    main_overview_ = overview_block.find_all(\"div\")[0]\n",
    "    try:\n",
    "        activity_description = main_overview_.find_all(\"div\")[0].text\n",
    "    except:\n",
    "        activity_description = \"No description available\"\n",
    "\n",
    "    \n",
    "    data.append(activity_name)\n",
    "    data.append(activity_url)\n",
    "    data.append(price_per_participant)\n",
    "    data.append(valid_number_of_participants)\n",
    "    data.append(valid_date)\n",
    "    data.append(activity_description)\n",
    "\n",
    "    return data\n",
    "\n",
    "    "
   ]
  },
  {
   "cell_type": "code",
   "execution_count": 19,
   "metadata": {},
   "outputs": [],
   "source": [
    "def main_scraper(city_url, max_pages=100, dataframe=pd.DataFrame(columns=['Activity Name', 'Activity URL', 'Price per Participant', 'Valid Number of Participants', 'Valid Date', 'Activity Description'])):\n",
    "    \"\"\"This function takes a city url and returns a dataframe of all the activities\n",
    "    listed on the city page.\"\"\"\n",
    "\n",
    "    valid_pages = get_city_url_list(city_url, max_pages)\n",
    "    activity_urls = []\n",
    "    for page_number, response in valid_pages.items():\n",
    "        start = time.time()\n",
    "        soup = bs(response.text, 'html.parser')\n",
    "        activity_urls += get_activity_urls(soup)\n",
    "        print(f\"Activity urls for page {page_number} added to list in {time.time() - start} seconds\")\n",
    "    print(f\"Found {len(activity_urls)} activity urls\")\n",
    "\n",
    "    print(f\"Estimated time to completion: {len(activity_urls) * 1.8} seconds\")\n",
    "\n",
    "    init_start = time.time()\n",
    "    for link in activity_urls:\n",
    "        start = time.time()\n",
    "        try:\n",
    "            data = extract_data(link)\n",
    "            dataframe.loc[len(dataframe)] = data\n",
    "            print(f\"Extracted data for {link} in {time.time() - start} seconds. Estimated time to completion: {len(activity_urls) * 2.7 - (time.time() - init_start)} seconds\")\n",
    "        except:\n",
    "            print(f\"Error extracting data for {link}\")\n",
    "            continue\n",
    "    print(f\"Finished scraping {city_url}\")\n",
    "    return dataframe\n",
    "    "
   ]
  },
  {
   "cell_type": "code",
   "execution_count": 20,
   "metadata": {},
   "outputs": [
    {
     "name": "stdout",
     "output_type": "stream",
     "text": [
      "Checked validity for page 1 and it was 200\n",
      "Found 1 valid pages\n",
      "Activity urls for page 1 added to list in 0.2331087589263916 seconds\n",
      "Found 24 activity urls\n",
      "Estimated time to completion: 64.80000000000001 seconds\n",
      "Extracted data for https://viator.com/tours/Bangkok/Train-Market-and-Damnoensaduak-Floating-Market-with-small-group/d343-8374P24 in 1.741882562637329 seconds. Estimated time to completion: 63.05811743736268 seconds\n",
      "Extracted data for https://viator.com/tours/Bangkok/Amazing-Bangkok-City-and-Temple-Tour-with-Admission-Tickets/d343-91960P48 in 2.1555817127227783 seconds. Estimated time to completion: 60.902535724639904 seconds\n",
      "Extracted data for https://viator.com/tours/Bangkok/Bangkok-by-Night-Food-Temples-and-Markets-by-Tuk-Tuk/d343-6467BKKNIGHT in 1.7150163650512695 seconds. Estimated time to completion: 59.187519359588634 seconds\n",
      "Extracted data for https://viator.com/tours/Bangkok/Private-Tour-to-Ayutthaya-and-the-Summer-Palace/d343-52374P1 in 1.7964932918548584 seconds. Estimated time to completion: 57.38999252319337 seconds\n",
      "Extracted data for https://viator.com/tours/Bangkok/From-Bangkok-Elephant-Jungle-Sanctuary-Day-Trip/d343-184434P24 in 2.164543628692627 seconds. Estimated time to completion: 55.225448894500744 seconds\n",
      "Extracted data for https://viator.com/tours/Bangkok/Private-Tour-Best-of-Bangkok-in-A-Day/d343-18897P6 in 1.7646968364715576 seconds. Estimated time to completion: 53.459738540649425 seconds\n",
      "Extracted data for https://viator.com/tours/Bangkok/Bangkok-Midnight-Food-Tour-by-Tuk-Tuk/d343-16881P3 in 2.2965755462646484 seconds. Estimated time to completion: 51.16211442947389 seconds\n",
      "Extracted data for https://viator.com/tours/Bangkok/Bangkok-to-Angkor-Wat-Tour-2-Days-1-Night-from-Bangkok/d343-67891P12 in 2.29645037651062 seconds. Estimated time to completion: 48.86466841697694 seconds\n",
      "Extracted data for https://viator.com/tours/Bangkok/Private-Tour-Kanchanaburi-Erawan-Waterfall-Hellfire-Pass-and-Elephant-Care/d343-100506P19 in 2.2156713008880615 seconds. Estimated time to completion: 46.64772205352784 seconds\n",
      "Extracted data for https://viator.com/tours/Bangkok/White-Orchid-Dinner-Cruise-with-Optional-Return-Transfers/d343-90546P46 in 2.0097572803497314 seconds. Estimated time to completion: 44.63796477317811 seconds\n",
      "Extracted data for https://viator.com/tours/Bangkok/Ayutthaya-Historical-Park-Small-Group-Tour/d343-163642P1 in 1.9140830039978027 seconds. Estimated time to completion: 42.722885179519665 seconds\n",
      "Extracted data for https://viator.com/tours/Bangkok/Guided-Fast-Track-Immigration-Service-Bangkok-Suvanabhumi-Airport/d343-90546P33 in 1.9791560173034668 seconds. Estimated time to completion: 40.74269156455995 seconds\n",
      "Extracted data for https://viator.com/tours/Bangkok/Floating-Market-Railway-Market-Elephant-Village-Coconut-Factory-Orchid-Farm/d343-110403P6 in 1.805785894393921 seconds. Estimated time to completion: 38.93690567016603 seconds\n",
      "Extracted data for https://viator.com/tours/Bangkok/Bangkok-Tuk-Tuk-and-Street-Food-Tour/d343-10791P7 in 1.8845837116241455 seconds. Estimated time to completion: 37.05132489204408 seconds\n",
      "Extracted data for https://viator.com/tours/Bangkok/Royal-Princess-Dinner-Cruise-on-Chao-Phraya-River-Bangkok/d343-110534P588 in 1.6800942420959473 seconds. Estimated time to completion: 35.37123064994813 seconds\n",
      "Extracted data for https://viator.com/tours/Bangkok/Bridge-on-the-River-Kwai-and-Thailand-Burma-Railway-Tour/d343-90546P50 in 1.7351281642913818 seconds. Estimated time to completion: 33.63610248565675 seconds\n",
      "Extracted data for https://viator.com/tours/Bangkok/Private-Bangkok-Transfer-by-Executive-car-to-Bangkok-City-Centre-Hotels/d343-9592P95 in 2.23797345161438 seconds. Estimated time to completion: 31.39812903404237 seconds\n",
      "Extracted data for https://viator.com/tours/Bangkok/Wonderful-Pearl-Dinner-Cruise/d343-90546P90 in 1.982468605041504 seconds. Estimated time to completion: 29.415660429000866 seconds\n",
      "Extracted data for https://viator.com/tours/Bangkok/Private-Guided-Day-Tour-Bangkok-and-Beyond/d343-8371P1 in 1.6237308979034424 seconds. Estimated time to completion: 27.7904923439026 seconds\n",
      "Extracted data for https://viator.com/tours/Bangkok/Private-Day-Tour-to-a-Floating-market-and-Ayutthaya/d343-51641P186 in 1.8032472133636475 seconds. Estimated time to completion: 25.987245130538952 seconds\n",
      "Extracted data for https://viator.com/tours/Bangkok/Private-Excursion-to-MaeKlong-and-Damnoensaduak-Floating-Markets/d343-51641P35 in 1.8590469360351562 seconds. Estimated time to completion: 24.127691078186047 seconds\n",
      "Extracted data for https://viator.com/tours/Bangkok/Amazing-Bangkok-Tour-Including-Royal-Grand-Palace-Wat-Phra-Kaew-and-Wat-Arun/d343-103612P37 in 1.6687664985656738 seconds. Estimated time to completion: 22.458924579620373 seconds\n",
      "Extracted data for https://viator.com/tours/Bangkok/Tuk-tuk-tour-Bangkok-by-Night/d343-112650P1 in 1.6247944831848145 seconds. Estimated time to completion: 20.83413009643556 seconds\n",
      "Extracted data for https://viator.com/tours/Bangkok/Ayutthaya-Ancient-Capital-Tour-from-Bangkok-including-River-Cruise-and-Lunch/d343-103612P20 in 2.1198248863220215 seconds. Estimated time to completion: 18.714305210113537 seconds\n",
      "Finished scraping https://www.viator.com/Bangkok/d343-ttd\n"
     ]
    }
   ],
   "source": [
    "if __name__ == \"__main__\":\n",
    "    df = pd.DataFrame(columns=['Activity Name', 'Activity URL', 'Price per Participant', 'Valid Number of Participants', 'Valid Date', 'Activity Description'])\n",
    "    df = main_scraper(\"https://www.viator.com/Bangkok/d343-ttd\", max_pages = 21)\n",
    "    df.to_excel(\"paris_activities.xlsx\", index=False)"
   ]
  }
 ],
 "metadata": {
  "kernelspec": {
   "display_name": "viator-scraper-8jNH4O2W-py3.11",
   "language": "python",
   "name": "python3"
  },
  "language_info": {
   "codemirror_mode": {
    "name": "ipython",
    "version": 3
   },
   "file_extension": ".py",
   "mimetype": "text/x-python",
   "name": "python",
   "nbconvert_exporter": "python",
   "pygments_lexer": "ipython3",
   "version": "3.11.1"
  },
  "orig_nbformat": 4,
  "vscode": {
   "interpreter": {
    "hash": "4b2698c0501cc0a9693467ce9ffc6b65ca4bac349b7618a64c0134fdd8a120b5"
   }
  }
 },
 "nbformat": 4,
 "nbformat_minor": 2
}
